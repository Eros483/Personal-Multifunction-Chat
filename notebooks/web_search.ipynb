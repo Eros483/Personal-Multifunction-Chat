{
 "cells": [
  {
   "cell_type": "code",
   "execution_count": 2,
   "id": "67430e3b",
   "metadata": {},
   "outputs": [
    {
     "data": {
      "text/plain": [
       "True"
      ]
     },
     "execution_count": 2,
     "metadata": {},
     "output_type": "execute_result"
    }
   ],
   "source": [
    "import os\n",
    "from dotenv import load_dotenv\n",
    "\n",
    "load_dotenv()"
   ]
  },
  {
   "cell_type": "markdown",
   "id": "0e1bc57b",
   "metadata": {},
   "source": [
    "#### Web search function testing, get URL from this function"
   ]
  },
  {
   "cell_type": "code",
   "execution_count": 38,
   "id": "77b2b3fa",
   "metadata": {},
   "outputs": [],
   "source": [
    "from serpapi import GoogleSearch\n",
    "\n",
    "def web_search(query):\n",
    "    \"\"\"\n",
    "    Perform a web search to answer the query\n",
    "    Args:\n",
    "        query (str): The search query to perform.\n",
    "    Returns:\n",
    "        list: A list of 4-5 URLs relevant to query.\n",
    "    \"\"\"\n",
    "    params = {\n",
    "        \"q\": query,\n",
    "        \"api_key\": os.getenv(\"SERPER_API_KEY\"),\n",
    "        \"engine\": \"google\",\n",
    "        \"num\":5\n",
    "    }\n",
    "\n",
    "    search = GoogleSearch(params)\n",
    "    results = search.get_dict()\n",
    "\n",
    "    if \"organic_results\" in results:\n",
    "        results=results[\"organic_results\"]\n",
    "        return [result[\"link\"] for result in results if \"link\" in result]\n",
    "\n",
    "    else:\n",
    "        return []"
   ]
  },
  {
   "cell_type": "code",
   "execution_count": 39,
   "id": "1e3299f0",
   "metadata": {},
   "outputs": [],
   "source": [
    "search_results=web_search(\"llama-cpp-python documentation\")"
   ]
  },
  {
   "cell_type": "code",
   "execution_count": 40,
   "id": "2901ff9d",
   "metadata": {},
   "outputs": [
    {
     "name": "stdout",
     "output_type": "stream",
     "text": [
      "['https://llama-cpp-python.readthedocs.io/', 'https://github.com/ggml-org/llama.cpp', 'https://app.readthedocs.org/projects/llama-cpp-python/', 'https://www.datacamp.com/tutorial/llama-cpp-tutorial']\n"
     ]
    }
   ],
   "source": [
    "print(search_results)"
   ]
  },
  {
   "cell_type": "code",
   "execution_count": 20,
   "id": "e6b7aa57",
   "metadata": {},
   "outputs": [],
   "source": [
    "relevant_url=search_results[0]['link']"
   ]
  },
  {
   "cell_type": "markdown",
   "id": "aafe6f0e",
   "metadata": {},
   "source": [
    "#### Scrape the url"
   ]
  },
  {
   "cell_type": "code",
   "execution_count": null,
   "id": "26b5e1a4",
   "metadata": {},
   "outputs": [],
   "source": [
    "from playwright.sync_api import sync_playwright\n",
    "   \n",
    "def get_url_contents(url):\n",
    "    \"\"\"\n",
    "    Get the contents of a URL\n",
    "\n",
    "    Args:\n",
    "        url (str): The URL to fetch.\n",
    "    Returns:\n",
    "        str: The content of the page at the given URL.\n",
    "    \"\"\"\n",
    "    try:\n",
    "        with sync_playwright() as p:\n",
    "            browser = p.chromium.launch(headless=True)\n",
    "            page = browser.new_page()\n",
    "            page.goto(url, wait_until=\"networkidle\")\n",
    "\n",
    "            content = page.evaluate(\"\"\"\n",
    "                () => {\n",
    "                    // Remove script, style, nav, footer elements\n",
    "                    const elementsToRemove = document.querySelectorAll('script, style, nav, footer, header, .nav, .footer, .header, .sidebar');\n",
    "                    elementsToRemove.forEach(el => el.remove());\n",
    "                    \n",
    "                    // Get main content area if it exists\n",
    "                    const mainContent = document.querySelector('main, .main, .content, article, .article, #content, #main') || document.body;\n",
    "                    \n",
    "                    return mainContent.innerText.trim();\n",
    "                }\n",
    "            \"\"\")\n",
    "            \n",
    "            browser.close()\n",
    "            return content\n",
    "        \n",
    "    except Exception as e:\n",
    "        print(f\"Error fetching URL contents: {e}\")\n",
    "        return \"\""
   ]
  },
  {
   "cell_type": "code",
   "execution_count": 37,
   "id": "0ca088a5",
   "metadata": {},
   "outputs": [
    {
     "name": "stdout",
     "output_type": "stream",
     "text": [
      "['AppleAppStoreSearch', 'BaiduSearch', 'BingSearch', 'DuckDuckGoSearch', 'EbaySearch', 'GoogleScholarSearch', 'GoogleSearch', 'HomeDepotSearch', 'NaverSearch', 'SerpApiClient', 'WalmartSearch', 'YahooSearch', 'YandexSearch', 'YoutubeSearch', '__builtins__', '__cached__', '__doc__', '__file__', '__loader__', '__name__', '__package__', '__path__', '__spec__', 'apple_app_store_search', 'baidu_search', 'bing_search', 'constant', 'duck_duck_go_search', 'ebay_search', 'google_scholar_search', 'google_search', 'home_depot_search', 'naver_search', 'pagination', 'serp_api_client', 'serp_api_client_exception', 'walmart_search', 'yahoo_search', 'yandex_search', 'youtube_search']\n"
     ]
    }
   ],
   "source": [
    "# Test the import\n",
    "import serpapi\n",
    "print(dir(serpapi))"
   ]
  },
  {
   "cell_type": "code",
   "execution_count": 41,
   "id": "a9161acb",
   "metadata": {},
   "outputs": [],
   "source": [
    "from typing import List\n",
    "def web_search(query: str) -> List[str]:\n",
    "    \"\"\"\n",
    "    Perform a web search to answer the query\n",
    "    Args:\n",
    "        query (str): The search query to perform.\n",
    "    Returns:\n",
    "        list: A list of 4-5 URLs relevant to query.\n",
    "    \"\"\"\n",
    "    params = {\n",
    "        \"q\": query,\n",
    "        \"api_key\": os.getenv(\"SERPER_API_KEY\"),\n",
    "        \"engine\": \"google\",\n",
    "        \"num\": 5\n",
    "    }\n",
    "\n",
    "    search = GoogleSearch(params)\n",
    "    results = search.get_dict()\n",
    "\n",
    "    if \"organic_results\" in results:\n",
    "        results = results[\"organic_results\"]\n",
    "        return [result[\"link\"] for result in results if \"link\" in result]\n",
    "    else:\n",
    "        return []"
   ]
  },
  {
   "cell_type": "code",
   "execution_count": 42,
   "id": "ef938dcd",
   "metadata": {},
   "outputs": [
    {
     "name": "stdout",
     "output_type": "stream",
     "text": [
      "['https://llama-cpp-python.readthedocs.io/', 'https://github.com/ggml-org/llama.cpp', 'https://app.readthedocs.org/projects/llama-cpp-python/', 'https://www.datacamp.com/tutorial/llama-cpp-tutorial']\n"
     ]
    }
   ],
   "source": [
    "print(web_search(\"llama-cpp-python documentation\"))"
   ]
  }
 ],
 "metadata": {
  "kernelspec": {
   "display_name": "application",
   "language": "python",
   "name": "python3"
  },
  "language_info": {
   "codemirror_mode": {
    "name": "ipython",
    "version": 3
   },
   "file_extension": ".py",
   "mimetype": "text/x-python",
   "name": "python",
   "nbconvert_exporter": "python",
   "pygments_lexer": "ipython3",
   "version": "3.10.18"
  }
 },
 "nbformat": 4,
 "nbformat_minor": 5
}
